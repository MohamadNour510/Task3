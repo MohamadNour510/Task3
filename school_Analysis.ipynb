{
 "cells": [
  {
   "cell_type": "code",
   "execution_count": 1,
   "metadata": {},
   "outputs": [],
   "source": [
    "import numpy as np\n",
    "import pandas as pd \n",
    "import matplotlib.pyplot as plt"
   ]
  },
  {
   "cell_type": "code",
   "execution_count": 2,
   "metadata": {},
   "outputs": [
    {
     "data": {
      "text/html": [
       "<div>\n",
       "<style scoped>\n",
       "    .dataframe tbody tr th:only-of-type {\n",
       "        vertical-align: middle;\n",
       "    }\n",
       "\n",
       "    .dataframe tbody tr th {\n",
       "        vertical-align: top;\n",
       "    }\n",
       "\n",
       "    .dataframe thead th {\n",
       "        text-align: right;\n",
       "    }\n",
       "</style>\n",
       "<table border=\"1\" class=\"dataframe\">\n",
       "  <thead>\n",
       "    <tr style=\"text-align: right;\">\n",
       "      <th></th>\n",
       "      <th>DBN</th>\n",
       "      <th>School Name</th>\n",
       "      <th>School Type</th>\n",
       "      <th>Parent Response Rate</th>\n",
       "      <th>Teacher Response Rate</th>\n",
       "      <th>Student Response Rate</th>\n",
       "      <th>Total Safety and Respect Score</th>\n",
       "      <th>Total Communication Score</th>\n",
       "      <th>Total Engagement Score</th>\n",
       "      <th>Total Academic Expectations Score</th>\n",
       "    </tr>\n",
       "  </thead>\n",
       "  <tbody>\n",
       "    <tr>\n",
       "      <th>0</th>\n",
       "      <td>dbn</td>\n",
       "      <td>locationname</td>\n",
       "      <td>NaN</td>\n",
       "      <td>rr_p</td>\n",
       "      <td>rr_t</td>\n",
       "      <td>rr_s</td>\n",
       "      <td>saf_tot_12</td>\n",
       "      <td>com_tot_12</td>\n",
       "      <td>eng_tot_12</td>\n",
       "      <td>aca_tot_12</td>\n",
       "    </tr>\n",
       "    <tr>\n",
       "      <th>1</th>\n",
       "      <td>01M015</td>\n",
       "      <td>P.S. 015 Roberto Clemente</td>\n",
       "      <td>Elementary School</td>\n",
       "      <td>61%</td>\n",
       "      <td>92%</td>\n",
       "      <td>NaN</td>\n",
       "      <td>8.4</td>\n",
       "      <td>8.2</td>\n",
       "      <td>8.3</td>\n",
       "      <td>8.2</td>\n",
       "    </tr>\n",
       "    <tr>\n",
       "      <th>2</th>\n",
       "      <td>01M019</td>\n",
       "      <td>P.S. 019 Asher Levy</td>\n",
       "      <td>Elementary School</td>\n",
       "      <td>92%</td>\n",
       "      <td>94%</td>\n",
       "      <td>NaN</td>\n",
       "      <td>8.4</td>\n",
       "      <td>8</td>\n",
       "      <td>8</td>\n",
       "      <td>8.2</td>\n",
       "    </tr>\n",
       "    <tr>\n",
       "      <th>3</th>\n",
       "      <td>01M020</td>\n",
       "      <td>P.S. 020 Anna Silver</td>\n",
       "      <td>Elementary School</td>\n",
       "      <td>88%</td>\n",
       "      <td>73%</td>\n",
       "      <td>NaN</td>\n",
       "      <td>8.5</td>\n",
       "      <td>7.8</td>\n",
       "      <td>8.2</td>\n",
       "      <td>8.2</td>\n",
       "    </tr>\n",
       "    <tr>\n",
       "      <th>4</th>\n",
       "      <td>01M034</td>\n",
       "      <td>P.S. 034 Franklin D. Roosevelt</td>\n",
       "      <td>Elementary/Middle School</td>\n",
       "      <td>39%</td>\n",
       "      <td>58%</td>\n",
       "      <td>96%</td>\n",
       "      <td>7.3</td>\n",
       "      <td>6.9</td>\n",
       "      <td>7.3</td>\n",
       "      <td>7.7</td>\n",
       "    </tr>\n",
       "    <tr>\n",
       "      <th>5</th>\n",
       "      <td>01M063</td>\n",
       "      <td>P.S. 063 William Mckinley</td>\n",
       "      <td>Elementary School</td>\n",
       "      <td>58%</td>\n",
       "      <td>100%</td>\n",
       "      <td>NaN</td>\n",
       "      <td>8.5</td>\n",
       "      <td>7.4</td>\n",
       "      <td>7.6</td>\n",
       "      <td>7.8</td>\n",
       "    </tr>\n",
       "  </tbody>\n",
       "</table>\n",
       "</div>"
      ],
      "text/plain": [
       "      DBN                     School Name               School Type  \\\n",
       "0     dbn                    locationname                       NaN   \n",
       "1  01M015       P.S. 015 Roberto Clemente         Elementary School   \n",
       "2  01M019             P.S. 019 Asher Levy         Elementary School   \n",
       "3  01M020            P.S. 020 Anna Silver         Elementary School   \n",
       "4  01M034  P.S. 034 Franklin D. Roosevelt  Elementary/Middle School   \n",
       "5  01M063       P.S. 063 William Mckinley         Elementary School   \n",
       "\n",
       "  Parent Response Rate Teacher Response Rate Student Response Rate  \\\n",
       "0                 rr_p                  rr_t                  rr_s   \n",
       "1                  61%                   92%                   NaN   \n",
       "2                  92%                   94%                   NaN   \n",
       "3                  88%                   73%                   NaN   \n",
       "4                  39%                   58%                   96%   \n",
       "5                  58%                  100%                   NaN   \n",
       "\n",
       "  Total Safety and Respect Score Total Communication Score  \\\n",
       "0                     saf_tot_12                com_tot_12   \n",
       "1                            8.4                       8.2   \n",
       "2                            8.4                         8   \n",
       "3                            8.5                       7.8   \n",
       "4                            7.3                       6.9   \n",
       "5                            8.5                       7.4   \n",
       "\n",
       "  Total Engagement Score Total Academic Expectations Score  \n",
       "0             eng_tot_12                        aca_tot_12  \n",
       "1                    8.3                               8.2  \n",
       "2                      8                               8.2  \n",
       "3                    8.2                               8.2  \n",
       "4                    7.3                               7.7  \n",
       "5                    7.6                               7.8  "
      ]
     },
     "execution_count": 2,
     "metadata": {},
     "output_type": "execute_result"
    }
   ],
   "source": [
    "# Load the dataset\n",
    "data=pd.read_csv('General_Education_School.csv')\n",
    "\n",
    "data.head(6)"
   ]
  },
  {
   "cell_type": "code",
   "execution_count": 3,
   "metadata": {},
   "outputs": [],
   "source": [
    "## Delete the first row\n",
    "\n",
    "data.drop(0,inplace=True)\n"
   ]
  },
  {
   "cell_type": "code",
   "execution_count": 4,
   "metadata": {},
   "outputs": [
    {
     "data": {
      "text/html": [
       "<div>\n",
       "<style scoped>\n",
       "    .dataframe tbody tr th:only-of-type {\n",
       "        vertical-align: middle;\n",
       "    }\n",
       "\n",
       "    .dataframe tbody tr th {\n",
       "        vertical-align: top;\n",
       "    }\n",
       "\n",
       "    .dataframe thead th {\n",
       "        text-align: right;\n",
       "    }\n",
       "</style>\n",
       "<table border=\"1\" class=\"dataframe\">\n",
       "  <thead>\n",
       "    <tr style=\"text-align: right;\">\n",
       "      <th></th>\n",
       "      <th>DBN</th>\n",
       "      <th>School Name</th>\n",
       "      <th>School Type</th>\n",
       "      <th>Parent Response Rate</th>\n",
       "      <th>Teacher Response Rate</th>\n",
       "      <th>Student Response Rate</th>\n",
       "      <th>Total Safety and Respect Score</th>\n",
       "      <th>Total Communication Score</th>\n",
       "      <th>Total Engagement Score</th>\n",
       "      <th>Total Academic Expectations Score</th>\n",
       "    </tr>\n",
       "  </thead>\n",
       "  <tbody>\n",
       "    <tr>\n",
       "      <th>0</th>\n",
       "      <td>01M015</td>\n",
       "      <td>P.S. 015 Roberto Clemente</td>\n",
       "      <td>Elementary School</td>\n",
       "      <td>61%</td>\n",
       "      <td>92%</td>\n",
       "      <td>NaN</td>\n",
       "      <td>8.4</td>\n",
       "      <td>8.2</td>\n",
       "      <td>8.3</td>\n",
       "      <td>8.2</td>\n",
       "    </tr>\n",
       "    <tr>\n",
       "      <th>1</th>\n",
       "      <td>01M019</td>\n",
       "      <td>P.S. 019 Asher Levy</td>\n",
       "      <td>Elementary School</td>\n",
       "      <td>92%</td>\n",
       "      <td>94%</td>\n",
       "      <td>NaN</td>\n",
       "      <td>8.4</td>\n",
       "      <td>8</td>\n",
       "      <td>8</td>\n",
       "      <td>8.2</td>\n",
       "    </tr>\n",
       "    <tr>\n",
       "      <th>2</th>\n",
       "      <td>01M020</td>\n",
       "      <td>P.S. 020 Anna Silver</td>\n",
       "      <td>Elementary School</td>\n",
       "      <td>88%</td>\n",
       "      <td>73%</td>\n",
       "      <td>NaN</td>\n",
       "      <td>8.5</td>\n",
       "      <td>7.8</td>\n",
       "      <td>8.2</td>\n",
       "      <td>8.2</td>\n",
       "    </tr>\n",
       "    <tr>\n",
       "      <th>3</th>\n",
       "      <td>01M034</td>\n",
       "      <td>P.S. 034 Franklin D. Roosevelt</td>\n",
       "      <td>Elementary/Middle School</td>\n",
       "      <td>39%</td>\n",
       "      <td>58%</td>\n",
       "      <td>96%</td>\n",
       "      <td>7.3</td>\n",
       "      <td>6.9</td>\n",
       "      <td>7.3</td>\n",
       "      <td>7.7</td>\n",
       "    </tr>\n",
       "    <tr>\n",
       "      <th>4</th>\n",
       "      <td>01M063</td>\n",
       "      <td>P.S. 063 William Mckinley</td>\n",
       "      <td>Elementary School</td>\n",
       "      <td>58%</td>\n",
       "      <td>100%</td>\n",
       "      <td>NaN</td>\n",
       "      <td>8.5</td>\n",
       "      <td>7.4</td>\n",
       "      <td>7.6</td>\n",
       "      <td>7.8</td>\n",
       "    </tr>\n",
       "  </tbody>\n",
       "</table>\n",
       "</div>"
      ],
      "text/plain": [
       "      DBN                     School Name               School Type  \\\n",
       "0  01M015       P.S. 015 Roberto Clemente         Elementary School   \n",
       "1  01M019             P.S. 019 Asher Levy         Elementary School   \n",
       "2  01M020            P.S. 020 Anna Silver         Elementary School   \n",
       "3  01M034  P.S. 034 Franklin D. Roosevelt  Elementary/Middle School   \n",
       "4  01M063       P.S. 063 William Mckinley         Elementary School   \n",
       "\n",
       "  Parent Response Rate Teacher Response Rate Student Response Rate  \\\n",
       "0                  61%                   92%                   NaN   \n",
       "1                  92%                   94%                   NaN   \n",
       "2                  88%                   73%                   NaN   \n",
       "3                  39%                   58%                   96%   \n",
       "4                  58%                  100%                   NaN   \n",
       "\n",
       "  Total Safety and Respect Score Total Communication Score  \\\n",
       "0                            8.4                       8.2   \n",
       "1                            8.4                         8   \n",
       "2                            8.5                       7.8   \n",
       "3                            7.3                       6.9   \n",
       "4                            8.5                       7.4   \n",
       "\n",
       "  Total Engagement Score Total Academic Expectations Score  \n",
       "0                    8.3                               8.2  \n",
       "1                      8                               8.2  \n",
       "2                    8.2                               8.2  \n",
       "3                    7.3                               7.7  \n",
       "4                    7.6                               7.8  "
      ]
     },
     "execution_count": 4,
     "metadata": {},
     "output_type": "execute_result"
    }
   ],
   "source": [
    "\n",
    "#reset the index if needed\n",
    "data = data.reset_index(drop=True)\n",
    "data.head()"
   ]
  },
  {
   "cell_type": "code",
   "execution_count": 5,
   "metadata": {},
   "outputs": [
    {
     "data": {
      "text/plain": [
       "0"
      ]
     },
     "execution_count": 5,
     "metadata": {},
     "output_type": "execute_result"
    }
   ],
   "source": [
    "#check if data start from index 0\n",
    "data.index[0]"
   ]
  },
  {
   "cell_type": "code",
   "execution_count": 6,
   "metadata": {},
   "outputs": [
    {
     "data": {
      "text/plain": [
       "3"
      ]
     },
     "execution_count": 6,
     "metadata": {},
     "output_type": "execute_result"
    }
   ],
   "source": [
    "#check if dataset has duplicate rows\n",
    "data.duplicated().sum()"
   ]
  },
  {
   "cell_type": "code",
   "execution_count": 7,
   "metadata": {},
   "outputs": [],
   "source": [
    "#delete duplacate rows\n",
    "data = data.drop_duplicates()\n"
   ]
  },
  {
   "cell_type": "code",
   "execution_count": 8,
   "metadata": {},
   "outputs": [
    {
     "name": "stdout",
     "output_type": "stream",
     "text": [
      "Number of participating schools: 1667\n"
     ]
    }
   ],
   "source": [
    "# 1. Number of participating schools\n",
    "num_schools = data.shape[0]\n",
    "print(f\"Number of participating schools: {num_schools}\")\n"
   ]
  },
  {
   "cell_type": "code",
   "execution_count": 9,
   "metadata": {},
   "outputs": [
    {
     "name": "stdout",
     "output_type": "stream",
     "text": [
      "Types of schools: ['Elementary School' 'Elementary/Middle School' 'Middle/High School'\n",
      " 'Middle School' 'High School' 'Transfer High School'\n",
      " 'Elementary/Middle/High School' 'Early Childhood School' 'YABC']\n"
     ]
    }
   ],
   "source": [
    "# 2. Types of schools in the dataset\n",
    "\n",
    "school_types=data['School Type'].unique()\n",
    "print(\"Types of schools:\", school_types)"
   ]
  },
  {
   "cell_type": "code",
   "execution_count": 10,
   "metadata": {},
   "outputs": [
    {
     "name": "stdout",
     "output_type": "stream",
     "text": [
      "<class 'pandas.core.frame.DataFrame'>\n",
      "Index: 1667 entries, 0 to 1666\n",
      "Data columns (total 10 columns):\n",
      " #   Column                             Non-Null Count  Dtype \n",
      "---  ------                             --------------  ----- \n",
      " 0   DBN                                1667 non-null   object\n",
      " 1   School Name                        1667 non-null   object\n",
      " 2   School Type                        1667 non-null   object\n",
      " 3   Parent Response Rate               1667 non-null   object\n",
      " 4   Teacher Response Rate              1667 non-null   object\n",
      " 5   Student Response Rate              994 non-null    object\n",
      " 6   Total Safety and Respect Score     1667 non-null   object\n",
      " 7   Total Communication Score          1667 non-null   object\n",
      " 8   Total Engagement Score             1667 non-null   object\n",
      " 9   Total Academic Expectations Score  1667 non-null   object\n",
      "dtypes: object(10)\n",
      "memory usage: 143.3+ KB\n"
     ]
    }
   ],
   "source": [
    "data.info()"
   ]
  },
  {
   "cell_type": "code",
   "execution_count": 11,
   "metadata": {},
   "outputs": [
    {
     "data": {
      "text/html": [
       "<div>\n",
       "<style scoped>\n",
       "    .dataframe tbody tr th:only-of-type {\n",
       "        vertical-align: middle;\n",
       "    }\n",
       "\n",
       "    .dataframe tbody tr th {\n",
       "        vertical-align: top;\n",
       "    }\n",
       "\n",
       "    .dataframe thead th {\n",
       "        text-align: right;\n",
       "    }\n",
       "</style>\n",
       "<table border=\"1\" class=\"dataframe\">\n",
       "  <thead>\n",
       "    <tr style=\"text-align: right;\">\n",
       "      <th></th>\n",
       "      <th>DBN</th>\n",
       "      <th>School Name</th>\n",
       "      <th>School Type</th>\n",
       "      <th>Parent Response Rate</th>\n",
       "      <th>Teacher Response Rate</th>\n",
       "      <th>Student Response Rate</th>\n",
       "      <th>Total Safety and Respect Score</th>\n",
       "      <th>Total Communication Score</th>\n",
       "      <th>Total Engagement Score</th>\n",
       "      <th>Total Academic Expectations Score</th>\n",
       "    </tr>\n",
       "  </thead>\n",
       "  <tbody>\n",
       "    <tr>\n",
       "      <th>0</th>\n",
       "      <td>01M015</td>\n",
       "      <td>P.S. 015 Roberto Clemente</td>\n",
       "      <td>Elementary School</td>\n",
       "      <td>0.61</td>\n",
       "      <td>0.92</td>\n",
       "      <td>NaN</td>\n",
       "      <td>8.4</td>\n",
       "      <td>8.2</td>\n",
       "      <td>8.3</td>\n",
       "      <td>8.2</td>\n",
       "    </tr>\n",
       "    <tr>\n",
       "      <th>1</th>\n",
       "      <td>01M019</td>\n",
       "      <td>P.S. 019 Asher Levy</td>\n",
       "      <td>Elementary School</td>\n",
       "      <td>0.92</td>\n",
       "      <td>0.94</td>\n",
       "      <td>NaN</td>\n",
       "      <td>8.4</td>\n",
       "      <td>8</td>\n",
       "      <td>8</td>\n",
       "      <td>8.2</td>\n",
       "    </tr>\n",
       "    <tr>\n",
       "      <th>2</th>\n",
       "      <td>01M020</td>\n",
       "      <td>P.S. 020 Anna Silver</td>\n",
       "      <td>Elementary School</td>\n",
       "      <td>0.88</td>\n",
       "      <td>0.73</td>\n",
       "      <td>NaN</td>\n",
       "      <td>8.5</td>\n",
       "      <td>7.8</td>\n",
       "      <td>8.2</td>\n",
       "      <td>8.2</td>\n",
       "    </tr>\n",
       "    <tr>\n",
       "      <th>3</th>\n",
       "      <td>01M034</td>\n",
       "      <td>P.S. 034 Franklin D. Roosevelt</td>\n",
       "      <td>Elementary/Middle School</td>\n",
       "      <td>0.39</td>\n",
       "      <td>0.58</td>\n",
       "      <td>0.96</td>\n",
       "      <td>7.3</td>\n",
       "      <td>6.9</td>\n",
       "      <td>7.3</td>\n",
       "      <td>7.7</td>\n",
       "    </tr>\n",
       "    <tr>\n",
       "      <th>4</th>\n",
       "      <td>01M063</td>\n",
       "      <td>P.S. 063 William Mckinley</td>\n",
       "      <td>Elementary School</td>\n",
       "      <td>0.58</td>\n",
       "      <td>1.00</td>\n",
       "      <td>NaN</td>\n",
       "      <td>8.5</td>\n",
       "      <td>7.4</td>\n",
       "      <td>7.6</td>\n",
       "      <td>7.8</td>\n",
       "    </tr>\n",
       "  </tbody>\n",
       "</table>\n",
       "</div>"
      ],
      "text/plain": [
       "      DBN                     School Name               School Type  \\\n",
       "0  01M015       P.S. 015 Roberto Clemente         Elementary School   \n",
       "1  01M019             P.S. 019 Asher Levy         Elementary School   \n",
       "2  01M020            P.S. 020 Anna Silver         Elementary School   \n",
       "3  01M034  P.S. 034 Franklin D. Roosevelt  Elementary/Middle School   \n",
       "4  01M063       P.S. 063 William Mckinley         Elementary School   \n",
       "\n",
       "   Parent Response Rate  Teacher Response Rate  Student Response Rate  \\\n",
       "0                  0.61                   0.92                    NaN   \n",
       "1                  0.92                   0.94                    NaN   \n",
       "2                  0.88                   0.73                    NaN   \n",
       "3                  0.39                   0.58                   0.96   \n",
       "4                  0.58                   1.00                    NaN   \n",
       "\n",
       "  Total Safety and Respect Score Total Communication Score  \\\n",
       "0                            8.4                       8.2   \n",
       "1                            8.4                         8   \n",
       "2                            8.5                       7.8   \n",
       "3                            7.3                       6.9   \n",
       "4                            8.5                       7.4   \n",
       "\n",
       "  Total Engagement Score Total Academic Expectations Score  \n",
       "0                    8.3                               8.2  \n",
       "1                      8                               8.2  \n",
       "2                    8.2                               8.2  \n",
       "3                    7.3                               7.7  \n",
       "4                    7.6                               7.8  "
      ]
     },
     "execution_count": 11,
     "metadata": {},
     "output_type": "execute_result"
    }
   ],
   "source": [
    "\n",
    "# --- Data Cleaning ---\n",
    "# Convert percentage strings to float\n",
    "for col in ['Parent Response Rate', 'Teacher Response Rate', 'Student Response Rate']:\n",
    "    data[col] = data[col].str.rstrip('%').astype('float') / 100\n",
    "\n",
    "\n",
    "data.head()"
   ]
  },
  {
   "cell_type": "code",
   "execution_count": 12,
   "metadata": {},
   "outputs": [
    {
     "name": "stdout",
     "output_type": "stream",
     "text": [
      "<class 'pandas.core.frame.DataFrame'>\n",
      "Index: 1667 entries, 0 to 1666\n",
      "Data columns (total 10 columns):\n",
      " #   Column                             Non-Null Count  Dtype  \n",
      "---  ------                             --------------  -----  \n",
      " 0   DBN                                1667 non-null   object \n",
      " 1   School Name                        1667 non-null   object \n",
      " 2   School Type                        1667 non-null   object \n",
      " 3   Parent Response Rate               1667 non-null   float64\n",
      " 4   Teacher Response Rate              1667 non-null   float64\n",
      " 5   Student Response Rate              994 non-null    float64\n",
      " 6   Total Safety and Respect Score     1667 non-null   object \n",
      " 7   Total Communication Score          1667 non-null   object \n",
      " 8   Total Engagement Score             1667 non-null   object \n",
      " 9   Total Academic Expectations Score  1667 non-null   object \n",
      "dtypes: float64(3), object(7)\n",
      "memory usage: 143.3+ KB\n"
     ]
    }
   ],
   "source": [
    "data.info()"
   ]
  },
  {
   "cell_type": "code",
   "execution_count": 13,
   "metadata": {},
   "outputs": [
    {
     "name": "stdout",
     "output_type": "stream",
     "text": [
      "<class 'pandas.core.frame.DataFrame'>\n",
      "Index: 1667 entries, 0 to 1666\n",
      "Data columns (total 10 columns):\n",
      " #   Column                             Non-Null Count  Dtype  \n",
      "---  ------                             --------------  -----  \n",
      " 0   DBN                                1667 non-null   object \n",
      " 1   School Name                        1667 non-null   object \n",
      " 2   School Type                        1667 non-null   object \n",
      " 3   Parent Response Rate               1667 non-null   float64\n",
      " 4   Teacher Response Rate              1667 non-null   float64\n",
      " 5   Student Response Rate              994 non-null    float64\n",
      " 6   Total Safety and Respect Score     1667 non-null   float64\n",
      " 7   Total Communication Score          1667 non-null   float64\n",
      " 8   Total Engagement Score             1667 non-null   float64\n",
      " 9   Total Academic Expectations Score  1667 non-null   float64\n",
      "dtypes: float64(7), object(3)\n",
      "memory usage: 143.3+ KB\n"
     ]
    }
   ],
   "source": [
    "data['Total Safety and Respect Score']=data['Total Safety and Respect Score'].astype(float)\n",
    "data['Total Communication Score']=data['Total Communication Score'].astype(float)\n",
    "data['Total Engagement Score']=data['Total Engagement Score'].astype(float)\n",
    "data['Total Academic Expectations Score']=data['Total Academic Expectations Score'].astype(float)\n",
    "\n",
    "data.info()"
   ]
  },
  {
   "cell_type": "code",
   "execution_count": 14,
   "metadata": {},
   "outputs": [
    {
     "name": "stdout",
     "output_type": "stream",
     "text": [
      "Average parent response rate: 56.3%\n",
      "Average teacher response rate: 83.4%\n",
      "Average student response rate: 84.5%\n"
     ]
    }
   ],
   "source": [
    "# Calculate averages and convert back to percentage for display\n",
    "avg_parent_response = data['Parent Response Rate'].mean() * 100\n",
    "avg_teacher_response = data['Teacher Response Rate'].mean() * 100\n",
    "avg_student_response = data['Student Response Rate'].mean() * 100\n",
    "\n",
    "print(f\"Average parent response rate: {avg_parent_response:.1f}%\")\n",
    "print(f\"Average teacher response rate: {avg_teacher_response:.1f}%\")\n",
    "print(f\"Average student response rate: {avg_student_response:.1f}%\")"
   ]
  },
  {
   "cell_type": "code",
   "execution_count": 15,
   "metadata": {},
   "outputs": [
    {
     "name": "stdout",
     "output_type": "stream",
     "text": [
      "Student Response rate hase null value: 673\n"
     ]
    }
   ],
   "source": [
    "#Howmany null value are found in Student Response Rate\n",
    "\n",
    "student_response_nullValue=data['Student Response Rate'].isnull().sum()\n",
    "\n",
    "\n",
    "print('Student Response rate hase null value:',student_response_nullValue)"
   ]
  },
  {
   "cell_type": "code",
   "execution_count": 16,
   "metadata": {},
   "outputs": [],
   "source": [
    "#How elementary Schools are found in dataset\n",
    "elementary_schools = data[data['School Type'] == 'Elementary School'][['School Name','School Type', 'Student Response Rate']]\n"
   ]
  },
  {
   "cell_type": "code",
   "execution_count": 17,
   "metadata": {},
   "outputs": [
    {
     "data": {
      "text/html": [
       "<div>\n",
       "<style scoped>\n",
       "    .dataframe tbody tr th:only-of-type {\n",
       "        vertical-align: middle;\n",
       "    }\n",
       "\n",
       "    .dataframe tbody tr th {\n",
       "        vertical-align: top;\n",
       "    }\n",
       "\n",
       "    .dataframe thead th {\n",
       "        text-align: right;\n",
       "    }\n",
       "</style>\n",
       "<table border=\"1\" class=\"dataframe\">\n",
       "  <thead>\n",
       "    <tr style=\"text-align: right;\">\n",
       "      <th></th>\n",
       "      <th>School Name</th>\n",
       "      <th>School Type</th>\n",
       "      <th>Student Response Rate</th>\n",
       "    </tr>\n",
       "  </thead>\n",
       "  <tbody>\n",
       "    <tr>\n",
       "      <th>0</th>\n",
       "      <td>P.S. 015 Roberto Clemente</td>\n",
       "      <td>Elementary School</td>\n",
       "      <td>NaN</td>\n",
       "    </tr>\n",
       "    <tr>\n",
       "      <th>1</th>\n",
       "      <td>P.S. 019 Asher Levy</td>\n",
       "      <td>Elementary School</td>\n",
       "      <td>NaN</td>\n",
       "    </tr>\n",
       "    <tr>\n",
       "      <th>2</th>\n",
       "      <td>P.S. 020 Anna Silver</td>\n",
       "      <td>Elementary School</td>\n",
       "      <td>NaN</td>\n",
       "    </tr>\n",
       "    <tr>\n",
       "      <th>4</th>\n",
       "      <td>P.S. 063 William Mckinley</td>\n",
       "      <td>Elementary School</td>\n",
       "      <td>NaN</td>\n",
       "    </tr>\n",
       "    <tr>\n",
       "      <th>5</th>\n",
       "      <td>P.S. 064 Robert Simon</td>\n",
       "      <td>Elementary School</td>\n",
       "      <td>NaN</td>\n",
       "    </tr>\n",
       "    <tr>\n",
       "      <th>...</th>\n",
       "      <td>...</td>\n",
       "      <td>...</td>\n",
       "      <td>...</td>\n",
       "    </tr>\n",
       "    <tr>\n",
       "      <th>1647</th>\n",
       "      <td>Bronx Academy Of Promise Charter School</td>\n",
       "      <td>Elementary School</td>\n",
       "      <td>NaN</td>\n",
       "    </tr>\n",
       "    <tr>\n",
       "      <th>1648</th>\n",
       "      <td>Icahn Charter School 3</td>\n",
       "      <td>Elementary School</td>\n",
       "      <td>NaN</td>\n",
       "    </tr>\n",
       "    <tr>\n",
       "      <th>1656</th>\n",
       "      <td>Icahn Charter School 4</td>\n",
       "      <td>Elementary School</td>\n",
       "      <td>NaN</td>\n",
       "    </tr>\n",
       "    <tr>\n",
       "      <th>1665</th>\n",
       "      <td>Bronx Charter School For Better Learning</td>\n",
       "      <td>Elementary School</td>\n",
       "      <td>NaN</td>\n",
       "    </tr>\n",
       "    <tr>\n",
       "      <th>1666</th>\n",
       "      <td>Bronx Charter School For The Arts</td>\n",
       "      <td>Elementary School</td>\n",
       "      <td>NaN</td>\n",
       "    </tr>\n",
       "  </tbody>\n",
       "</table>\n",
       "<p>617 rows × 3 columns</p>\n",
       "</div>"
      ],
      "text/plain": [
       "                                   School Name        School Type  \\\n",
       "0                    P.S. 015 Roberto Clemente  Elementary School   \n",
       "1                          P.S. 019 Asher Levy  Elementary School   \n",
       "2                         P.S. 020 Anna Silver  Elementary School   \n",
       "4                    P.S. 063 William Mckinley  Elementary School   \n",
       "5                        P.S. 064 Robert Simon  Elementary School   \n",
       "...                                        ...                ...   \n",
       "1647   Bronx Academy Of Promise Charter School  Elementary School   \n",
       "1648                    Icahn Charter School 3  Elementary School   \n",
       "1656                    Icahn Charter School 4  Elementary School   \n",
       "1665  Bronx Charter School For Better Learning  Elementary School   \n",
       "1666         Bronx Charter School For The Arts  Elementary School   \n",
       "\n",
       "      Student Response Rate  \n",
       "0                       NaN  \n",
       "1                       NaN  \n",
       "2                       NaN  \n",
       "4                       NaN  \n",
       "5                       NaN  \n",
       "...                     ...  \n",
       "1647                    NaN  \n",
       "1648                    NaN  \n",
       "1656                    NaN  \n",
       "1665                    NaN  \n",
       "1666                    NaN  \n",
       "\n",
       "[617 rows x 3 columns]"
      ]
     },
     "execution_count": 17,
     "metadata": {},
     "output_type": "execute_result"
    }
   ],
   "source": [
    "elementary_schools\n"
   ]
  },
  {
   "cell_type": "code",
   "execution_count": 18,
   "metadata": {},
   "outputs": [
    {
     "data": {
      "text/plain": [
       "617"
      ]
     },
     "execution_count": 18,
     "metadata": {},
     "output_type": "execute_result"
    }
   ],
   "source": [
    "len(elementary_schools)"
   ]
  },
  {
   "cell_type": "code",
   "execution_count": 19,
   "metadata": {},
   "outputs": [
    {
     "name": "stdout",
     "output_type": "stream",
     "text": [
      "Student Response Rate for Elementary Schools Students\n"
     ]
    },
    {
     "data": {
      "text/plain": [
       "School Type                0\n",
       "Student Response Rate    589\n",
       "dtype: int64"
      ]
     },
     "execution_count": 19,
     "metadata": {},
     "output_type": "execute_result"
    }
   ],
   "source": [
    "#Student response rate for elementray schools studens\n",
    "result = elementary_schools[['School Type', 'Student Response Rate']]\n",
    "print('Student Response Rate for Elementary Schools Students')\n",
    "\n",
    "result.isnull().sum()"
   ]
  },
  {
   "cell_type": "code",
   "execution_count": 20,
   "metadata": {},
   "outputs": [
    {
     "data": {
      "text/plain": [
       "81"
      ]
     },
     "execution_count": 20,
     "metadata": {},
     "output_type": "execute_result"
    }
   ],
   "source": [
    "#How Early childhood_school are found in Dataset\n",
    "Early_Childhood_School=data[data['School Type'] == 'Early Childhood School'][['School Name','School Type', 'Student Response Rate']]\n",
    "\n",
    "len(Early_Childhood_School)"
   ]
  },
  {
   "cell_type": "code",
   "execution_count": 21,
   "metadata": {},
   "outputs": [
    {
     "data": {
      "text/plain": [
       "School Name               0\n",
       "School Type               0\n",
       "Student Response Rate    81\n",
       "dtype: int64"
      ]
     },
     "execution_count": 21,
     "metadata": {},
     "output_type": "execute_result"
    }
   ],
   "source": [
    "#Student response rate for early_childhood schools students\n",
    "result=Early_Childhood_School[['School Name','School Type', 'Student Response Rate']]\n",
    "\n",
    "result.isnull().sum()"
   ]
  },
  {
   "cell_type": "code",
   "execution_count": 22,
   "metadata": {},
   "outputs": [
    {
     "data": {
      "text/html": [
       "<div>\n",
       "<style scoped>\n",
       "    .dataframe tbody tr th:only-of-type {\n",
       "        vertical-align: middle;\n",
       "    }\n",
       "\n",
       "    .dataframe tbody tr th {\n",
       "        vertical-align: top;\n",
       "    }\n",
       "\n",
       "    .dataframe thead th {\n",
       "        text-align: right;\n",
       "    }\n",
       "</style>\n",
       "<table border=\"1\" class=\"dataframe\">\n",
       "  <thead>\n",
       "    <tr style=\"text-align: right;\">\n",
       "      <th></th>\n",
       "      <th>School Name</th>\n",
       "      <th>School Type</th>\n",
       "      <th>Student Response Rate</th>\n",
       "    </tr>\n",
       "  </thead>\n",
       "  <tbody>\n",
       "    <tr>\n",
       "      <th>54</th>\n",
       "      <td>Yorkville Community School</td>\n",
       "      <td>Early Childhood School</td>\n",
       "      <td>NaN</td>\n",
       "    </tr>\n",
       "    <tr>\n",
       "      <th>65</th>\n",
       "      <td>P.S. 267</td>\n",
       "      <td>Early Childhood School</td>\n",
       "      <td>NaN</td>\n",
       "    </tr>\n",
       "    <tr>\n",
       "      <th>86</th>\n",
       "      <td>Spruce Street School</td>\n",
       "      <td>Early Childhood School</td>\n",
       "      <td>NaN</td>\n",
       "    </tr>\n",
       "    <tr>\n",
       "      <th>153</th>\n",
       "      <td>P.S. 185 - The Early Childhood Discovery And D...</td>\n",
       "      <td>Early Childhood School</td>\n",
       "      <td>NaN</td>\n",
       "    </tr>\n",
       "    <tr>\n",
       "      <th>175</th>\n",
       "      <td>P.S. 452</td>\n",
       "      <td>Early Childhood School</td>\n",
       "      <td>NaN</td>\n",
       "    </tr>\n",
       "  </tbody>\n",
       "</table>\n",
       "</div>"
      ],
      "text/plain": [
       "                                           School Name  \\\n",
       "54                          Yorkville Community School   \n",
       "65                                            P.S. 267   \n",
       "86                                Spruce Street School   \n",
       "153  P.S. 185 - The Early Childhood Discovery And D...   \n",
       "175                                           P.S. 452   \n",
       "\n",
       "                School Type  Student Response Rate  \n",
       "54   Early Childhood School                    NaN  \n",
       "65   Early Childhood School                    NaN  \n",
       "86   Early Childhood School                    NaN  \n",
       "153  Early Childhood School                    NaN  \n",
       "175  Early Childhood School                    NaN  "
      ]
     },
     "execution_count": 22,
     "metadata": {},
     "output_type": "execute_result"
    }
   ],
   "source": [
    "Early_Childhood_School.head()"
   ]
  },
  {
   "cell_type": "code",
   "execution_count": 23,
   "metadata": {},
   "outputs": [
    {
     "data": {
      "text/plain": [
       "160"
      ]
     },
     "execution_count": 23,
     "metadata": {},
     "output_type": "execute_result"
    }
   ],
   "source": [
    "#Howmany Elementary middle schools are found in dataset\n",
    "Elementary_Middle_School=data[data['School Type'] == 'Elementary/Middle School'][['School Name','School Type', 'Student Response Rate']]\n",
    "\n",
    "len(Elementary_Middle_School)\n",
    "\n",
    "\n"
   ]
  },
  {
   "cell_type": "code",
   "execution_count": 24,
   "metadata": {},
   "outputs": [
    {
     "data": {
      "text/html": [
       "<div>\n",
       "<style scoped>\n",
       "    .dataframe tbody tr th:only-of-type {\n",
       "        vertical-align: middle;\n",
       "    }\n",
       "\n",
       "    .dataframe tbody tr th {\n",
       "        vertical-align: top;\n",
       "    }\n",
       "\n",
       "    .dataframe thead th {\n",
       "        text-align: right;\n",
       "    }\n",
       "</style>\n",
       "<table border=\"1\" class=\"dataframe\">\n",
       "  <thead>\n",
       "    <tr style=\"text-align: right;\">\n",
       "      <th></th>\n",
       "      <th>School Name</th>\n",
       "      <th>School Type</th>\n",
       "      <th>Student Response Rate</th>\n",
       "    </tr>\n",
       "  </thead>\n",
       "  <tbody>\n",
       "    <tr>\n",
       "      <th>3</th>\n",
       "      <td>P.S. 034 Franklin D. Roosevelt</td>\n",
       "      <td>Elementary/Middle School</td>\n",
       "      <td>0.96</td>\n",
       "    </tr>\n",
       "    <tr>\n",
       "      <th>9</th>\n",
       "      <td>P.S. 140 Nathan Straus</td>\n",
       "      <td>Elementary/Middle School</td>\n",
       "      <td>0.98</td>\n",
       "    </tr>\n",
       "    <tr>\n",
       "      <th>11</th>\n",
       "      <td>P.S. 184M Shuang Wen</td>\n",
       "      <td>Elementary/Middle School</td>\n",
       "      <td>0.99</td>\n",
       "    </tr>\n",
       "    <tr>\n",
       "      <th>12</th>\n",
       "      <td>P.S. 188 The Island School</td>\n",
       "      <td>Elementary/Middle School</td>\n",
       "      <td>0.97</td>\n",
       "    </tr>\n",
       "    <tr>\n",
       "      <th>46</th>\n",
       "      <td>P.S. 111 Adolph S. Ochs</td>\n",
       "      <td>Elementary/Middle School</td>\n",
       "      <td>0.77</td>\n",
       "    </tr>\n",
       "  </tbody>\n",
       "</table>\n",
       "</div>"
      ],
      "text/plain": [
       "                       School Name               School Type  \\\n",
       "3   P.S. 034 Franklin D. Roosevelt  Elementary/Middle School   \n",
       "9           P.S. 140 Nathan Straus  Elementary/Middle School   \n",
       "11            P.S. 184M Shuang Wen  Elementary/Middle School   \n",
       "12      P.S. 188 The Island School  Elementary/Middle School   \n",
       "46         P.S. 111 Adolph S. Ochs  Elementary/Middle School   \n",
       "\n",
       "    Student Response Rate  \n",
       "3                    0.96  \n",
       "9                    0.98  \n",
       "11                   0.99  \n",
       "12                   0.97  \n",
       "46                   0.77  "
      ]
     },
     "execution_count": 24,
     "metadata": {},
     "output_type": "execute_result"
    }
   ],
   "source": [
    "Elementary_Middle_School.head()"
   ]
  },
  {
   "cell_type": "code",
   "execution_count": 25,
   "metadata": {},
   "outputs": [
    {
     "data": {
      "text/plain": [
       "0"
      ]
     },
     "execution_count": 25,
     "metadata": {},
     "output_type": "execute_result"
    }
   ],
   "source": [
    "Elementary_Middle_School['Student Response Rate'].isnull().sum()"
   ]
  },
  {
   "cell_type": "code",
   "execution_count": 26,
   "metadata": {},
   "outputs": [
    {
     "name": "stdout",
     "output_type": "stream",
     "text": [
      "Missing values in each column:\n",
      " DBN                                    0\n",
      "School Name                            0\n",
      "School Type                            0\n",
      "Parent Response Rate                   0\n",
      "Teacher Response Rate                  0\n",
      "Student Response Rate                673\n",
      "Total Safety and Respect Score         0\n",
      "Total Communication Score              0\n",
      "Total Engagement Score                 0\n",
      "Total Academic Expectations Score      0\n",
      "dtype: int64\n"
     ]
    }
   ],
   "source": [
    "# --- Step 2: Data Cleaning ---\n",
    "\n",
    "# 1. Check for missing values\n",
    "missing_values = data.isnull().sum()\n",
    "print(\"Missing values in each column:\\n\", missing_values)"
   ]
  },
  {
   "cell_type": "code",
   "execution_count": 27,
   "metadata": {},
   "outputs": [
    {
     "name": "stderr",
     "output_type": "stream",
     "text": [
      "/var/folders/b5/8h11bzmx5js9tqspcq04d4dw0000gn/T/ipykernel_96890/3779833343.py:1: FutureWarning: A value is trying to be set on a copy of a DataFrame or Series through chained assignment using an inplace method.\n",
      "The behavior will change in pandas 3.0. This inplace method will never work because the intermediate object on which we are setting values always behaves as a copy.\n",
      "\n",
      "For example, when doing 'df[col].method(value, inplace=True)', try using 'df.method({col: value}, inplace=True)' or df[col] = df[col].method(value) instead, to perform the operation inplace on the original object.\n",
      "\n",
      "\n",
      "  data['Student Response Rate'].fillna(0,inplace=True)\n"
     ]
    }
   ],
   "source": [
    "data['Student Response Rate'].fillna(0,inplace=True)"
   ]
  },
  {
   "cell_type": "code",
   "execution_count": 28,
   "metadata": {},
   "outputs": [
    {
     "data": {
      "text/html": [
       "<div>\n",
       "<style scoped>\n",
       "    .dataframe tbody tr th:only-of-type {\n",
       "        vertical-align: middle;\n",
       "    }\n",
       "\n",
       "    .dataframe tbody tr th {\n",
       "        vertical-align: top;\n",
       "    }\n",
       "\n",
       "    .dataframe thead th {\n",
       "        text-align: right;\n",
       "    }\n",
       "</style>\n",
       "<table border=\"1\" class=\"dataframe\">\n",
       "  <thead>\n",
       "    <tr style=\"text-align: right;\">\n",
       "      <th></th>\n",
       "      <th>DBN</th>\n",
       "      <th>School Name</th>\n",
       "      <th>School Type</th>\n",
       "      <th>Parent Response Rate</th>\n",
       "      <th>Teacher Response Rate</th>\n",
       "      <th>Student Response Rate</th>\n",
       "      <th>Total Safety and Respect Score</th>\n",
       "      <th>Total Communication Score</th>\n",
       "      <th>Total Engagement Score</th>\n",
       "      <th>Total Academic Expectations Score</th>\n",
       "    </tr>\n",
       "  </thead>\n",
       "  <tbody>\n",
       "    <tr>\n",
       "      <th>0</th>\n",
       "      <td>01M015</td>\n",
       "      <td>P.S. 015 Roberto Clemente</td>\n",
       "      <td>Elementary School</td>\n",
       "      <td>0.61</td>\n",
       "      <td>0.92</td>\n",
       "      <td>0.00</td>\n",
       "      <td>8.4</td>\n",
       "      <td>8.2</td>\n",
       "      <td>8.3</td>\n",
       "      <td>8.2</td>\n",
       "    </tr>\n",
       "    <tr>\n",
       "      <th>1</th>\n",
       "      <td>01M019</td>\n",
       "      <td>P.S. 019 Asher Levy</td>\n",
       "      <td>Elementary School</td>\n",
       "      <td>0.92</td>\n",
       "      <td>0.94</td>\n",
       "      <td>0.00</td>\n",
       "      <td>8.4</td>\n",
       "      <td>8.0</td>\n",
       "      <td>8.0</td>\n",
       "      <td>8.2</td>\n",
       "    </tr>\n",
       "    <tr>\n",
       "      <th>2</th>\n",
       "      <td>01M020</td>\n",
       "      <td>P.S. 020 Anna Silver</td>\n",
       "      <td>Elementary School</td>\n",
       "      <td>0.88</td>\n",
       "      <td>0.73</td>\n",
       "      <td>0.00</td>\n",
       "      <td>8.5</td>\n",
       "      <td>7.8</td>\n",
       "      <td>8.2</td>\n",
       "      <td>8.2</td>\n",
       "    </tr>\n",
       "    <tr>\n",
       "      <th>3</th>\n",
       "      <td>01M034</td>\n",
       "      <td>P.S. 034 Franklin D. Roosevelt</td>\n",
       "      <td>Elementary/Middle School</td>\n",
       "      <td>0.39</td>\n",
       "      <td>0.58</td>\n",
       "      <td>0.96</td>\n",
       "      <td>7.3</td>\n",
       "      <td>6.9</td>\n",
       "      <td>7.3</td>\n",
       "      <td>7.7</td>\n",
       "    </tr>\n",
       "    <tr>\n",
       "      <th>4</th>\n",
       "      <td>01M063</td>\n",
       "      <td>P.S. 063 William Mckinley</td>\n",
       "      <td>Elementary School</td>\n",
       "      <td>0.58</td>\n",
       "      <td>1.00</td>\n",
       "      <td>0.00</td>\n",
       "      <td>8.5</td>\n",
       "      <td>7.4</td>\n",
       "      <td>7.6</td>\n",
       "      <td>7.8</td>\n",
       "    </tr>\n",
       "  </tbody>\n",
       "</table>\n",
       "</div>"
      ],
      "text/plain": [
       "      DBN                     School Name               School Type  \\\n",
       "0  01M015       P.S. 015 Roberto Clemente         Elementary School   \n",
       "1  01M019             P.S. 019 Asher Levy         Elementary School   \n",
       "2  01M020            P.S. 020 Anna Silver         Elementary School   \n",
       "3  01M034  P.S. 034 Franklin D. Roosevelt  Elementary/Middle School   \n",
       "4  01M063       P.S. 063 William Mckinley         Elementary School   \n",
       "\n",
       "   Parent Response Rate  Teacher Response Rate  Student Response Rate  \\\n",
       "0                  0.61                   0.92                   0.00   \n",
       "1                  0.92                   0.94                   0.00   \n",
       "2                  0.88                   0.73                   0.00   \n",
       "3                  0.39                   0.58                   0.96   \n",
       "4                  0.58                   1.00                   0.00   \n",
       "\n",
       "   Total Safety and Respect Score  Total Communication Score  \\\n",
       "0                             8.4                        8.2   \n",
       "1                             8.4                        8.0   \n",
       "2                             8.5                        7.8   \n",
       "3                             7.3                        6.9   \n",
       "4                             8.5                        7.4   \n",
       "\n",
       "   Total Engagement Score  Total Academic Expectations Score  \n",
       "0                     8.3                                8.2  \n",
       "1                     8.0                                8.2  \n",
       "2                     8.2                                8.2  \n",
       "3                     7.3                                7.7  \n",
       "4                     7.6                                7.8  "
      ]
     },
     "execution_count": 28,
     "metadata": {},
     "output_type": "execute_result"
    }
   ],
   "source": [
    "\n",
    "\n",
    "data.head()\n"
   ]
  },
  {
   "cell_type": "code",
   "execution_count": 29,
   "metadata": {},
   "outputs": [
    {
     "data": {
      "text/plain": [
       "0"
      ]
     },
     "execution_count": 29,
     "metadata": {},
     "output_type": "execute_result"
    }
   ],
   "source": [
    "data['Student Response Rate'].isnull().sum()"
   ]
  },
  {
   "cell_type": "code",
   "execution_count": 30,
   "metadata": {},
   "outputs": [
    {
     "data": {
      "text/plain": [
       "9.6"
      ]
     },
     "execution_count": 30,
     "metadata": {},
     "output_type": "execute_result"
    }
   ],
   "source": [
    "data['Total Safety and Respect Score'].max()"
   ]
  },
  {
   "cell_type": "code",
   "execution_count": 31,
   "metadata": {},
   "outputs": [
    {
     "name": "stdout",
     "output_type": "stream",
     "text": [
      "Correlation between parent response and safety score: 0.50\n",
      "Correlation between parent response and communication score: 0.48\n"
     ]
    }
   ],
   "source": [
    "# --- Step 3: Deeper Analysis ---\n",
    "\n",
    "# 1. Correlation between parent response rate and safety/communication scores\n",
    "correlation_safety = data['Parent Response Rate'].corr(data['Total Safety and Respect Score'])\n",
    "correlation_communication = data['Parent Response Rate'].corr(data['Total Communication Score'])\n",
    "print(f\"Correlation between parent response and safety score: {correlation_safety:.2f}\")\n",
    "print(f\"Correlation between parent response and communication score: {correlation_communication:.2f}\")\n"
   ]
  },
  {
   "cell_type": "code",
   "execution_count": 35,
   "metadata": {},
   "outputs": [
    {
     "name": "stdout",
     "output_type": "stream",
     "text": [
      "Correlation between teacher response and safety score: 0.22\n",
      "Correlation between teacher response and communication score: 0.27\n",
      "Correlation between teacher response and Total Engagement Score: 0.27\n",
      "Correlation between teacher response and Total Engagement Score: 0.28\n"
     ]
    }
   ],
   "source": [
    "\n",
    "\n",
    "# 1. Correlation between teacher response rate and safety/communication scores\n",
    "correlation_safety_teacher = data['Teacher Response Rate'].corr(data['Total Safety and Respect Score'])\n",
    "correlation_communication_teacher = data['Teacher Response Rate'].corr(data['Total Communication Score'])\n",
    "collelation_Total_Engagement_Score=data['Teacher Response Rate'].corr(data['Total Engagement Score'])\n",
    "collelation_Total_Academic_Expectations_Score_teacher=data['Teacher Response Rate'].corr(data['Total Academic Expectations Score'])\n",
    "print(f\"Correlation between teacher response and safety score: {correlation_safety_teacher:.2f}\")\n",
    "print(f\"Correlation between teacher response and communication score: {correlation_communication_teacher:.2f}\")\n",
    "print(f\"Correlation between teacher response and Total Engagement Score: {correlation_communication_teacher:.2f}\")\n",
    "print(f\"Correlation between teacher response and Total Engagement Score: {collelation_Total_Academic_Expectations_Score_teacher:.2f}\")"
   ]
  },
  {
   "cell_type": "code",
   "execution_count": null,
   "metadata": {},
   "outputs": [],
   "source": []
  },
  {
   "cell_type": "code",
   "execution_count": 36,
   "metadata": {},
   "outputs": [
    {
     "name": "stdout",
     "output_type": "stream",
     "text": [
      "Correlation (Elementary Schools only): -0.12\n"
     ]
    }
   ],
   "source": [
    "elementary_data=data[data['School Type']=='Elementary School']\n",
    "# Calculate correlation between Student Response Rate and another numeric column (e.g., Total Safety and Respect Score)\n",
    "correlation = elementary_data['Student Response Rate'].corr(elementary_data['Total Safety and Respect Score'])\n",
    "\n",
    "# Print the result\n",
    "print(f\"Correlation (Elementary Schools only): {correlation:.2f}\")"
   ]
  },
  {
   "cell_type": "code",
   "execution_count": 37,
   "metadata": {},
   "outputs": [
    {
     "name": "stdout",
     "output_type": "stream",
     "text": [
      "Average scores by school type:\n",
      "                                Total Safety and Respect Score  \\\n",
      "School Type                                                     \n",
      "Early Childhood School                               8.637037   \n",
      "Elementary School                                    8.273906   \n",
      "Elementary/Middle School                             7.661250   \n",
      "Elementary/Middle/High School                        7.471429   \n",
      "High School                                          7.394886   \n",
      "Middle School                                        7.453082   \n",
      "Middle/High School                                   7.398851   \n",
      "Transfer High School                                 8.091837   \n",
      "YABC                                                 8.377273   \n",
      "\n",
      "                               Total Communication Score  \\\n",
      "School Type                                                \n",
      "Early Childhood School                          8.027160   \n",
      "Elementary School                               7.645867   \n",
      "Elementary/Middle School                        7.245625   \n",
      "Elementary/Middle/High School                   6.857143   \n",
      "High School                                     6.848864   \n",
      "Middle School                                   7.065753   \n",
      "Middle/High School                              6.847126   \n",
      "Transfer High School                            7.238776   \n",
      "YABC                                            7.700000   \n",
      "\n",
      "                               Total Engagement Score  \\\n",
      "School Type                                             \n",
      "Early Childhood School                       8.162963   \n",
      "Elementary School                            7.872609   \n",
      "Elementary/Middle School                     7.536250   \n",
      "Elementary/Middle/High School                7.128571   \n",
      "High School                                  7.157102   \n",
      "Middle School                                7.416781   \n",
      "Middle/High School                           7.124138   \n",
      "Transfer High School                         7.775510   \n",
      "YABC                                         8.159091   \n",
      "\n",
      "                               Total Academic Expectations Score  \n",
      "School Type                                                       \n",
      "Early Childhood School                                  8.386420  \n",
      "Elementary School                                       8.051053  \n",
      "Elementary/Middle School                                7.961250  \n",
      "Elementary/Middle/High School                           7.514286  \n",
      "High School                                             7.530966  \n",
      "Middle School                                           7.804795  \n",
      "Middle/High School                                      7.514943  \n",
      "Transfer High School                                    8.044898  \n",
      "YABC                                                    8.368182  \n"
     ]
    }
   ],
   "source": [
    "# 2. Average scores by school type\n",
    "avg_scores_by_type = data.groupby('School Type')[['Total Safety and Respect Score', \n",
    "                                                 'Total Communication Score', \n",
    "                                                 'Total Engagement Score', \n",
    "                                                 'Total Academic Expectations Score']].mean()\n",
    "print(\"Average scores by school type:\\n\", avg_scores_by_type)"
   ]
  },
  {
   "cell_type": "code",
   "execution_count": 184,
   "metadata": {},
   "outputs": [
    {
     "name": "stdout",
     "output_type": "stream",
     "text": [
      "Statistical summary of scores:\n",
      "\n"
     ]
    },
    {
     "data": {
      "text/html": [
       "<div>\n",
       "<style scoped>\n",
       "    .dataframe tbody tr th:only-of-type {\n",
       "        vertical-align: middle;\n",
       "    }\n",
       "\n",
       "    .dataframe tbody tr th {\n",
       "        vertical-align: top;\n",
       "    }\n",
       "\n",
       "    .dataframe thead th {\n",
       "        text-align: right;\n",
       "    }\n",
       "</style>\n",
       "<table border=\"1\" class=\"dataframe\">\n",
       "  <thead>\n",
       "    <tr style=\"text-align: right;\">\n",
       "      <th></th>\n",
       "      <th>Parent Response Rate</th>\n",
       "      <th>Teacher Response Rate</th>\n",
       "      <th>Student Response Rate</th>\n",
       "      <th>Total Safety and Respect Score</th>\n",
       "      <th>Total Communication Score</th>\n",
       "      <th>Total Engagement Score</th>\n",
       "      <th>Total Academic Expectations Score</th>\n",
       "    </tr>\n",
       "  </thead>\n",
       "  <tbody>\n",
       "    <tr>\n",
       "      <th>count</th>\n",
       "      <td>1667.000000</td>\n",
       "      <td>1667.000000</td>\n",
       "      <td>1667.000000</td>\n",
       "      <td>1667.000000</td>\n",
       "      <td>1667.000000</td>\n",
       "      <td>1667.000000</td>\n",
       "      <td>1667.000000</td>\n",
       "    </tr>\n",
       "    <tr>\n",
       "      <th>mean</th>\n",
       "      <td>0.563359</td>\n",
       "      <td>0.834031</td>\n",
       "      <td>0.504055</td>\n",
       "      <td>7.850330</td>\n",
       "      <td>7.299820</td>\n",
       "      <td>7.582244</td>\n",
       "      <td>7.879544</td>\n",
       "    </tr>\n",
       "    <tr>\n",
       "      <th>std</th>\n",
       "      <td>0.250089</td>\n",
       "      <td>0.174267</td>\n",
       "      <td>0.433175</td>\n",
       "      <td>0.745997</td>\n",
       "      <td>0.697943</td>\n",
       "      <td>0.662616</td>\n",
       "      <td>0.624073</td>\n",
       "    </tr>\n",
       "    <tr>\n",
       "      <th>min</th>\n",
       "      <td>0.010000</td>\n",
       "      <td>0.000000</td>\n",
       "      <td>0.000000</td>\n",
       "      <td>4.700000</td>\n",
       "      <td>4.700000</td>\n",
       "      <td>4.800000</td>\n",
       "      <td>5.300000</td>\n",
       "    </tr>\n",
       "    <tr>\n",
       "      <th>25%</th>\n",
       "      <td>0.370000</td>\n",
       "      <td>0.750000</td>\n",
       "      <td>0.000000</td>\n",
       "      <td>7.300000</td>\n",
       "      <td>6.800000</td>\n",
       "      <td>7.100000</td>\n",
       "      <td>7.500000</td>\n",
       "    </tr>\n",
       "    <tr>\n",
       "      <th>50%</th>\n",
       "      <td>0.570000</td>\n",
       "      <td>0.880000</td>\n",
       "      <td>0.710000</td>\n",
       "      <td>7.900000</td>\n",
       "      <td>7.300000</td>\n",
       "      <td>7.600000</td>\n",
       "      <td>7.900000</td>\n",
       "    </tr>\n",
       "    <tr>\n",
       "      <th>75%</th>\n",
       "      <td>0.760000</td>\n",
       "      <td>0.970000</td>\n",
       "      <td>0.920000</td>\n",
       "      <td>8.400000</td>\n",
       "      <td>7.800000</td>\n",
       "      <td>8.000000</td>\n",
       "      <td>8.300000</td>\n",
       "    </tr>\n",
       "    <tr>\n",
       "      <th>max</th>\n",
       "      <td>1.000000</td>\n",
       "      <td>1.000000</td>\n",
       "      <td>1.000000</td>\n",
       "      <td>9.600000</td>\n",
       "      <td>9.200000</td>\n",
       "      <td>9.300000</td>\n",
       "      <td>9.500000</td>\n",
       "    </tr>\n",
       "  </tbody>\n",
       "</table>\n",
       "</div>"
      ],
      "text/plain": [
       "       Parent Response Rate  Teacher Response Rate  Student Response Rate  \\\n",
       "count           1667.000000            1667.000000            1667.000000   \n",
       "mean               0.563359               0.834031               0.504055   \n",
       "std                0.250089               0.174267               0.433175   \n",
       "min                0.010000               0.000000               0.000000   \n",
       "25%                0.370000               0.750000               0.000000   \n",
       "50%                0.570000               0.880000               0.710000   \n",
       "75%                0.760000               0.970000               0.920000   \n",
       "max                1.000000               1.000000               1.000000   \n",
       "\n",
       "       Total Safety and Respect Score  Total Communication Score  \\\n",
       "count                     1667.000000                1667.000000   \n",
       "mean                         7.850330                   7.299820   \n",
       "std                          0.745997                   0.697943   \n",
       "min                          4.700000                   4.700000   \n",
       "25%                          7.300000                   6.800000   \n",
       "50%                          7.900000                   7.300000   \n",
       "75%                          8.400000                   7.800000   \n",
       "max                          9.600000                   9.200000   \n",
       "\n",
       "       Total Engagement Score  Total Academic Expectations Score  \n",
       "count             1667.000000                        1667.000000  \n",
       "mean                 7.582244                           7.879544  \n",
       "std                  0.662616                           0.624073  \n",
       "min                  4.800000                           5.300000  \n",
       "25%                  7.100000                           7.500000  \n",
       "50%                  7.600000                           7.900000  \n",
       "75%                  8.000000                           8.300000  \n",
       "max                  9.300000                           9.500000  "
      ]
     },
     "execution_count": 184,
     "metadata": {},
     "output_type": "execute_result"
    }
   ],
   "source": [
    "# 3. Statistical summary to identify exceptional schools\n",
    "\n",
    "print(\"Statistical summary of scores:\\n\")\n",
    "\n",
    "data.describe()"
   ]
  },
  {
   "cell_type": "code",
   "execution_count": 185,
   "metadata": {},
   "outputs": [
    {
     "name": "stdout",
     "output_type": "stream",
     "text": [
      "\n",
      "Recommendations:\n",
      "- Focus on improving parent response rates in schools with below-average participation.\n",
      "- Enhance safety and communication in school types with lower scores.\n",
      "- Use high-performing schools as models for others.\n"
     ]
    }
   ],
   "source": [
    "# --- Step 4: Recommendations ---\n",
    "# (These would depend on actual data; here’s an example based on typical findings)\n",
    "print(\"\\nRecommendations:\")\n",
    "print(\"- Focus on improving parent response rates in schools with below-average participation.\")\n",
    "print(\"- Enhance safety and communication in school types with lower scores.\")\n",
    "print(\"- Use high-performing schools as models for others.\")"
   ]
  },
  {
   "cell_type": "code",
   "execution_count": null,
   "metadata": {},
   "outputs": [],
   "source": []
  },
  {
   "cell_type": "code",
   "execution_count": null,
   "metadata": {},
   "outputs": [],
   "source": []
  }
 ],
 "metadata": {
  "kernelspec": {
   "display_name": "base",
   "language": "python",
   "name": "python3"
  },
  "language_info": {
   "codemirror_mode": {
    "name": "ipython",
    "version": 3
   },
   "file_extension": ".py",
   "mimetype": "text/x-python",
   "name": "python",
   "nbconvert_exporter": "python",
   "pygments_lexer": "ipython3",
   "version": "3.12.2"
  }
 },
 "nbformat": 4,
 "nbformat_minor": 2
}
